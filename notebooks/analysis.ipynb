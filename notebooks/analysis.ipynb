{
 "cells": [
  {
   "cell_type": "code",
   "execution_count": 1,
   "id": "c8bc63f4",
   "metadata": {},
   "outputs": [],
   "source": [
    "import sys\n",
    "import os\n",
    "\n",
    "# Ruta relativa desde el notebook a la carpeta de scripts\n",
    "sys.path.append(os.path.abspath(\"../scripts\"))"
   ]
  },
  {
   "cell_type": "code",
   "execution_count": 2,
   "id": "62623f66",
   "metadata": {},
   "outputs": [],
   "source": [
    "import numpy as np\n",
    "import pandas as pd"
   ]
  },
  {
   "cell_type": "code",
   "execution_count": 3,
   "id": "71a46284",
   "metadata": {},
   "outputs": [],
   "source": [
    "train_df = pd.read_csv(\"../datasets/Rest-Mex_2025_train.csv\", encoding='utf-8')"
   ]
  },
  {
   "cell_type": "code",
   "execution_count": 4,
   "id": "5a3f9afb",
   "metadata": {},
   "outputs": [
    {
     "data": {
      "text/plain": [
       "Index(['Title', 'Review', 'Polarity', 'Town', 'Region', 'Type'], dtype='object')"
      ]
     },
     "execution_count": 4,
     "metadata": {},
     "output_type": "execute_result"
    }
   ],
   "source": [
    "train_df.columns"
   ]
  },
  {
   "cell_type": "code",
   "execution_count": 8,
   "id": "e7b0e2f3",
   "metadata": {},
   "outputs": [
    {
     "data": {
      "text/plain": [
       "array(['Tulum', 'Isla_Mujeres', 'San_Cristobal_de_las_Casas',\n",
       "       'Valladolid', 'Bacalar', 'Palenque', 'Sayulita', 'Valle_de_Bravo',\n",
       "       'Teotihuacan', 'Loreto', 'TodosSantos', 'Patzcuaro', 'Taxco',\n",
       "       'Tlaquepaque', 'Ajijic', 'Tequisquiapan', 'Metepec', 'Tepoztlan',\n",
       "       'Cholula', 'Tequila', 'Orizaba', 'Izamal', 'Creel',\n",
       "       'Ixtapan_de_la_Sal', 'Zacatlan', 'Huasca_de_Ocampo', 'Mazunte',\n",
       "       'Xilitla', 'Atlixco', 'Malinalco', 'Bernal', 'Tepotzotlan',\n",
       "       'Cuetzalan', 'Chiapa_de_Corzo', 'Parras', 'Dolores_Hidalgo',\n",
       "       'Coatepec', 'Cuatro_Cienegas', 'Real_de_Catorce', 'Tapalpa'],\n",
       "      dtype=object)"
      ]
     },
     "execution_count": 8,
     "metadata": {},
     "output_type": "execute_result"
    }
   ],
   "source": [
    "train_df[\"Town\"].value_counts().index.to_numpy()"
   ]
  },
  {
   "cell_type": "code",
   "execution_count": 9,
   "id": "599f8605",
   "metadata": {},
   "outputs": [],
   "source": [
    "towns = { town:idx for idx, town in enumerate(train_df[\"Town\"].value_counts().index.to_numpy()) }\n",
    "train_df[\"label_town\"] = train_df[\"Town\"].apply(lambda x: towns[x])"
   ]
  },
  {
   "cell_type": "code",
   "execution_count": 13,
   "id": "f1b98648",
   "metadata": {},
   "outputs": [],
   "source": [
    "train_df[\"label_polarity\"] = train_df[\"Polarity\"].apply(lambda x: int(x-1))"
   ]
  },
  {
   "cell_type": "code",
   "execution_count": 11,
   "id": "c94cca0b",
   "metadata": {},
   "outputs": [],
   "source": [
    "types = { _type:idx for idx, _type in enumerate(train_df[\"Type\"].value_counts().index.to_numpy()) }\n",
    "train_df[\"label_type\"] = train_df[\"Type\"].apply(lambda x: types[x] )"
   ]
  },
  {
   "cell_type": "code",
   "execution_count": 14,
   "id": "dac9de59",
   "metadata": {},
   "outputs": [
    {
     "data": {
      "text/html": [
       "<div>\n",
       "<style scoped>\n",
       "    .dataframe tbody tr th:only-of-type {\n",
       "        vertical-align: middle;\n",
       "    }\n",
       "\n",
       "    .dataframe tbody tr th {\n",
       "        vertical-align: top;\n",
       "    }\n",
       "\n",
       "    .dataframe thead th {\n",
       "        text-align: right;\n",
       "    }\n",
       "</style>\n",
       "<table border=\"1\" class=\"dataframe\">\n",
       "  <thead>\n",
       "    <tr style=\"text-align: right;\">\n",
       "      <th></th>\n",
       "      <th>Title</th>\n",
       "      <th>Review</th>\n",
       "      <th>Polarity</th>\n",
       "      <th>Town</th>\n",
       "      <th>Region</th>\n",
       "      <th>Type</th>\n",
       "      <th>label_town</th>\n",
       "      <th>label_polarity</th>\n",
       "      <th>label_type</th>\n",
       "    </tr>\n",
       "  </thead>\n",
       "  <tbody>\n",
       "    <tr>\n",
       "      <th>0</th>\n",
       "      <td>Mi Lugar Favorito!!!!</td>\n",
       "      <td>Excelente lugar para comer y pasar una buena n...</td>\n",
       "      <td>5.0</td>\n",
       "      <td>Sayulita</td>\n",
       "      <td>Nayarit</td>\n",
       "      <td>Restaurant</td>\n",
       "      <td>6</td>\n",
       "      <td>4</td>\n",
       "      <td>0</td>\n",
       "    </tr>\n",
       "    <tr>\n",
       "      <th>1</th>\n",
       "      <td>lugares interesantes para visitar</td>\n",
       "      <td>andar mucho, así que un poco difícil para pers...</td>\n",
       "      <td>4.0</td>\n",
       "      <td>Tulum</td>\n",
       "      <td>QuintanaRoo</td>\n",
       "      <td>Attractive</td>\n",
       "      <td>0</td>\n",
       "      <td>3</td>\n",
       "      <td>1</td>\n",
       "    </tr>\n",
       "    <tr>\n",
       "      <th>2</th>\n",
       "      <td>No es el mismo Dreams</td>\n",
       "      <td>Es nuestra cuarta visita a Dreams Tulum, elegi...</td>\n",
       "      <td>3.0</td>\n",
       "      <td>Tulum</td>\n",
       "      <td>QuintanaRoo</td>\n",
       "      <td>Hotel</td>\n",
       "      <td>0</td>\n",
       "      <td>2</td>\n",
       "      <td>2</td>\n",
       "    </tr>\n",
       "    <tr>\n",
       "      <th>3</th>\n",
       "      <td>un buen panorama cerca de CancÃºn</td>\n",
       "      <td>Estando en CancÃºn, fuimos al puerto y tomamos...</td>\n",
       "      <td>4.0</td>\n",
       "      <td>Isla_Mujeres</td>\n",
       "      <td>QuintanaRoo</td>\n",
       "      <td>Attractive</td>\n",
       "      <td>1</td>\n",
       "      <td>3</td>\n",
       "      <td>1</td>\n",
       "    </tr>\n",
       "    <tr>\n",
       "      <th>4</th>\n",
       "      <td>El mejor</td>\n",
       "      <td>Es un lugar antiguo y por eso me encanto tiene...</td>\n",
       "      <td>5.0</td>\n",
       "      <td>Patzcuaro</td>\n",
       "      <td>Michoacan</td>\n",
       "      <td>Hotel</td>\n",
       "      <td>11</td>\n",
       "      <td>4</td>\n",
       "      <td>2</td>\n",
       "    </tr>\n",
       "  </tbody>\n",
       "</table>\n",
       "</div>"
      ],
      "text/plain": [
       "                               Title  \\\n",
       "0              Mi Lugar Favorito!!!!   \n",
       "1  lugares interesantes para visitar   \n",
       "2             No es el mismo Dreams    \n",
       "3  un buen panorama cerca de CancÃºn   \n",
       "4                           El mejor   \n",
       "\n",
       "                                              Review  Polarity          Town  \\\n",
       "0  Excelente lugar para comer y pasar una buena n...       5.0      Sayulita   \n",
       "1  andar mucho, así que un poco difícil para pers...       4.0         Tulum   \n",
       "2  Es nuestra cuarta visita a Dreams Tulum, elegi...       3.0         Tulum   \n",
       "3  Estando en CancÃºn, fuimos al puerto y tomamos...       4.0  Isla_Mujeres   \n",
       "4  Es un lugar antiguo y por eso me encanto tiene...       5.0     Patzcuaro   \n",
       "\n",
       "        Region        Type  label_town  label_polarity  label_type  \n",
       "0      Nayarit  Restaurant           6               4           0  \n",
       "1  QuintanaRoo  Attractive           0               3           1  \n",
       "2  QuintanaRoo       Hotel           0               2           2  \n",
       "3  QuintanaRoo  Attractive           1               3           1  \n",
       "4    Michoacan       Hotel          11               4           2  "
      ]
     },
     "execution_count": 14,
     "metadata": {},
     "output_type": "execute_result"
    }
   ],
   "source": [
    "train_df.head()"
   ]
  },
  {
   "cell_type": "markdown",
   "id": "86553683",
   "metadata": {},
   "source": [
    "### Caracters"
   ]
  },
  {
   "cell_type": "code",
   "execution_count": 15,
   "id": "0c28a75c",
   "metadata": {},
   "outputs": [],
   "source": [
    "import numpy as np\n",
    "\n",
    "characters = np.unique_values([ c for review in train_df[\"Review\"] for c in review ])"
   ]
  },
  {
   "cell_type": "code",
   "execution_count": null,
   "id": "d019c5d7",
   "metadata": {},
   "outputs": [],
   "source": [
    "import re\n",
    "import unicodedata\n",
    "\n",
    "def clean_characters(text):\n",
    "    #text = re.sub('\\n+', '\\n', text)\n",
    "    text = re.sub(r\"`|‘|’|´\", \"'\", text)\n",
    "    text = re.sub(r\"''\", \"\", text)\n",
    "    text = re.sub(r\"\\xad|\\x81|…|_|\\u200b\", \" \", text)\n",
    "    text = re.sub(\"[-—–]+\", \"-\", text) \n",
    "    text = re.sub(r\"\\.+\", \".\", text)\n",
    "    \n",
    "    text = re.sub(r\"б|Ã¡|Ã¡|à\", \"á\", text)\n",
    "    text = re.sub(r\"Ã©|è|й\", \"é\", text)\n",
    "    text = re.sub(r\"у|Ã³|í³|ò\", \"ó\", text)\n",
    "    text = re.sub(r\"ъ|Ãº|ù\", \"ú\", text)\n",
    "\n",
    "    text = re.sub(r\"Ã|À\", \"Á\", text)\n",
    "    text = re.sub(r\"Ã‰|È\", \"É\", text)\n",
    "    text = re.sub(r\"Ã|Ì\", \"Í\", text)\n",
    "    text = re.sub(r\"Ã“|Ò\", \"Ó\", text)\n",
    "    text = re.sub(r\"Ãš|Ù\", \"Ú\", text)\n",
    "    \n",
    "    text = re.sub(r\"Ã‘\", \"Ñ\", text)\n",
    "    text = re.sub(r\"с|Ã±|a±|í±\", \"ñ\", text)\n",
    "    text = re.sub(r\"е\", \"e\", text)\n",
    "    text = re.sub(r\"Â¿|Ї\", \"¿\", text)\n",
    "    text = re.sub(r\"éÂ¼\", \"üe\", text)\n",
    "    text = re.sub(r\"ss \", \" \", text)  \n",
    "    \n",
    "    if re.search(r\"н|Ã ­|Ã|­�|ì\", text) is not None: \n",
    "        text = re.sub(r\"н|Ã ­|Ã|­�|ì\", \"í\", text)\n",
    "        text = re.sub(r\"í \", \"í\", text)\n",
    "\n",
    "    text = re.sub(r'([\\.,¡!¿\\?\\[\\]\\(\\)%\\$])', r' \\1 ', text)\n",
    "    text = re.sub(r\"[^A-Za-zÁÉÍÓÚáéíóúüÑñ¿\\?!¡,\\[\\]\\(\\)\\n'0-9-\\. %\\$]\", '', text)\n",
    "    \n",
    "    text = re.sub(r'\\b[Mm][áa]s\\b[\\.\\!\\?]?$','', text)\n",
    "\n",
    "    text = re.sub(r\"\\s+\", \" \", text)\n",
    "\n",
    "    return unicodedata.normalize('NFC', text.strip())"
   ]
  },
  {
   "cell_type": "code",
   "execution_count": 24,
   "id": "f30ff46f",
   "metadata": {},
   "outputs": [],
   "source": [
    "#from dataset_utils import clean_characters\n",
    "\n",
    "train_df[\"clean_review\"] = train_df[\"Review\"].apply(lambda x: clean_characters(x))"
   ]
  },
  {
   "cell_type": "code",
   "execution_count": 18,
   "id": "6ab43634",
   "metadata": {},
   "outputs": [
    {
     "data": {
      "text/plain": [
       "array([' ', '!', '$', '%', \"'\", '(', ')', ',', '-', '.', '0', '1', '2',\n",
       "       '3', '4', '5', '6', '7', '8', '9', '?', 'A', 'B', 'C', 'D', 'E',\n",
       "       'F', 'G', 'H', 'I', 'J', 'K', 'L', 'M', 'N', 'O', 'P', 'Q', 'R',\n",
       "       'S', 'T', 'U', 'V', 'W', 'X', 'Y', 'Z', '[', ']', 'a', 'b', 'c',\n",
       "       'd', 'e', 'f', 'g', 'h', 'i', 'j', 'k', 'l', 'm', 'n', 'o', 'p',\n",
       "       'q', 'r', 's', 't', 'u', 'v', 'w', 'x', 'y', 'z', '¡', '¿', 'Á',\n",
       "       'É', 'Í', 'Ñ', 'Ó', 'Ú', 'á', 'é', 'í', 'ñ', 'ó', 'ú', 'ü'],\n",
       "      dtype='<U1')"
      ]
     },
     "execution_count": 18,
     "metadata": {},
     "output_type": "execute_result"
    }
   ],
   "source": [
    "new_characters = np.unique_values([ c for review in train_df[\"clean_review\"] for c in review ])\n",
    "new_characters"
   ]
  },
  {
   "cell_type": "code",
   "execution_count": 26,
   "id": "ab7839a2",
   "metadata": {},
   "outputs": [
    {
     "name": "stdout",
     "output_type": "stream",
     "text": [
      "Hay que ver para creer (pero quizÃ¡s no deberÃ­a. . . parte de su encanto es lo tranquilo que es). . . Nuestro nuevo lugar favorito en MÃ©xico. Vistas increÃ­bles, gente amable, deliciosa comida y bebidas, artesanos de talento - todo se Ãºnen para conseguir para una autÃ©ntica fiesta mexicana.\n",
      "\n",
      "Hay que ver para creer ( pero quizás no debería . . . parte de su encanto es lo tranquilo que es ) . . . Nuestro nuevo lugar favorito en México . Vistas increíbles , gente amable , deliciosa comida y bebidas , artesanos de talento - todo se únen para conseguir para una auténtica fiesta mexicana .\n"
     ]
    }
   ],
   "source": [
    "# 121199 121196 20450\n",
    "id = 121196\n",
    "print(train_df[\"Review\"][id])\n",
    "print(\"\")\n",
    "print(train_df[\"clean_review\"][id])"
   ]
  },
  {
   "cell_type": "code",
   "execution_count": null,
   "id": "ba3e708a",
   "metadata": {},
   "outputs": [],
   "source": [
    "import matplotlib.pyplot as plt\n",
    "import numpy as np\n",
    "\n",
    "words_size = [ len(text.split(\" \")) for text in train_df[\"clean_review\"] ]\n",
    "words_mean = np.mean(words_size)\n",
    "words_q    = np.quantile(words_size, q=0.95)"
   ]
  },
  {
   "cell_type": "code",
   "execution_count": null,
   "id": "ac4c7c70",
   "metadata": {},
   "outputs": [],
   "source": [
    "np.quantile(words_size, q=0.8)"
   ]
  },
  {
   "cell_type": "code",
   "execution_count": null,
   "id": "45b302d9",
   "metadata": {},
   "outputs": [],
   "source": [
    "train_df[\"clean_review\"].iloc[np.argmax(words_size)].split(\".\")[3]"
   ]
  },
  {
   "cell_type": "code",
   "execution_count": null,
   "id": "a0093b1c",
   "metadata": {},
   "outputs": [],
   "source": [
    "plt.hist(words_size, bins=np.arange(1,512,1))\n",
    "plt.axvline(words_mean, color=\"red\", linestyle=\"dashed\", linewidth=2, label=f\"Mean: {words_mean:.2f}\")\n",
    "plt.axvline(words_q, color=\"green\", linestyle=\"dashed\", linewidth=2, label=f\"Quantile: {words_q:.2f}\")\n",
    "plt.legend()\n",
    "plt.show()"
   ]
  }
 ],
 "metadata": {
  "kernelspec": {
   "display_name": ".env",
   "language": "python",
   "name": "python3"
  },
  "language_info": {
   "codemirror_mode": {
    "name": "ipython",
    "version": 3
   },
   "file_extension": ".py",
   "mimetype": "text/x-python",
   "name": "python",
   "nbconvert_exporter": "python",
   "pygments_lexer": "ipython3",
   "version": "3.12.10"
  }
 },
 "nbformat": 4,
 "nbformat_minor": 5
}
