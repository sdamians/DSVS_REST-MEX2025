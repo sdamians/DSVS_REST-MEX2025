{
 "cells": [
  {
   "cell_type": "code",
   "execution_count": 1,
   "id": "c8bc63f4",
   "metadata": {},
   "outputs": [],
   "source": [
    "import sys\n",
    "import os\n",
    "\n",
    "# Ruta relativa desde el notebook a la carpeta de scripts\n",
    "sys.path.append(os.path.abspath(\"../scripts\"))"
   ]
  },
  {
   "cell_type": "code",
   "execution_count": 7,
   "id": "62623f66",
   "metadata": {},
   "outputs": [
    {
     "name": "stderr",
     "output_type": "stream",
     "text": [
      "c:\\Users\\sdami\\OneDrive\\Escritorio\\Restmex\\.env\\Lib\\site-packages\\tqdm\\auto.py:21: TqdmWarning: IProgress not found. Please update jupyter and ipywidgets. See https://ipywidgets.readthedocs.io/en/stable/user_install.html\n",
      "  from .autonotebook import tqdm as notebook_tqdm\n"
     ]
    }
   ],
   "source": [
    "import numpy as np\n",
    "import pandas as pd\n",
    "from dataset_utils import df_to_dataset"
   ]
  },
  {
   "cell_type": "code",
   "execution_count": null,
   "id": "71a46284",
   "metadata": {},
   "outputs": [],
   "source": [
    "train_df = pd.read_csv(\"../datasets/Rest-Mex_2025_train.csv\", encoding='utf-8')"
   ]
  },
  {
   "cell_type": "code",
   "execution_count": 4,
   "id": "5a3f9afb",
   "metadata": {},
   "outputs": [
    {
     "data": {
      "text/plain": [
       "Index(['Title', 'Review', 'Polarity', 'Town', 'Region', 'Type'], dtype='object')"
      ]
     },
     "execution_count": 4,
     "metadata": {},
     "output_type": "execute_result"
    }
   ],
   "source": [
    "train_df.columns"
   ]
  },
  {
   "cell_type": "code",
   "execution_count": 15,
   "id": "e7b0e2f3",
   "metadata": {},
   "outputs": [
    {
     "data": {
      "text/plain": [
       "5"
      ]
     },
     "execution_count": 15,
     "metadata": {},
     "output_type": "execute_result"
    }
   ],
   "source": [
    "len(train_df[\"Polarity\"].value_counts().index.to_numpy())"
   ]
  },
  {
   "cell_type": "code",
   "execution_count": 6,
   "id": "599f8605",
   "metadata": {},
   "outputs": [],
   "source": [
    "towns = { town:idx for idx, town in enumerate(train_df[\"Town\"].value_counts().index.to_numpy()) }\n",
    "train_df[\"label_town\"] = train_df[\"Town\"].apply(lambda x: towns[x])"
   ]
  },
  {
   "cell_type": "code",
   "execution_count": 7,
   "id": "f1b98648",
   "metadata": {},
   "outputs": [],
   "source": [
    "train_df[\"label_polarity\"] = train_df[\"Polarity\"].apply(lambda x: int(x-1))"
   ]
  },
  {
   "cell_type": "code",
   "execution_count": 8,
   "id": "c94cca0b",
   "metadata": {},
   "outputs": [],
   "source": [
    "types = { _type:idx for idx, _type in enumerate(train_df[\"Type\"].value_counts().index.to_numpy()) }\n",
    "train_df[\"label_type\"] = train_df[\"Type\"].apply(lambda x: types[x] )"
   ]
  },
  {
   "cell_type": "code",
   "execution_count": null,
   "id": "dac9de59",
   "metadata": {},
   "outputs": [],
   "source": [
    "train_dataset = df_to_dataset(train_df, columns=['label_town', 'label_polarity', 'label_type'], text_column='Review')"
   ]
  },
  {
   "cell_type": "code",
   "execution_count": 12,
   "id": "1dda8840",
   "metadata": {},
   "outputs": [
    {
     "name": "stderr",
     "output_type": "stream",
     "text": [
      "Saving the dataset (1/1 shards): 100%|██████████| 208051/208051 [00:00<00:00, 784212.34 examples/s]\n"
     ]
    }
   ],
   "source": [
    "train_dataset.save_to_disk(f'../datasets/restmex_mtl_v1')"
   ]
  },
  {
   "cell_type": "code",
   "execution_count": 4,
   "id": "a9f94557",
   "metadata": {},
   "outputs": [],
   "source": [
    "test_df = pd.read_csv(\"../datasets/Rest-Mex_2025_test.csv\")"
   ]
  },
  {
   "cell_type": "code",
   "execution_count": 5,
   "id": "8bb51216",
   "metadata": {},
   "outputs": [
    {
     "data": {
      "text/plain": [
       "Index(['ID', 'Title', 'Review'], dtype='object')"
      ]
     },
     "execution_count": 5,
     "metadata": {},
     "output_type": "execute_result"
    }
   ],
   "source": [
    "test_df.columns"
   ]
  },
  {
   "cell_type": "code",
   "execution_count": 8,
   "id": "17c45b75",
   "metadata": {},
   "outputs": [],
   "source": [
    "test_dataset = df_to_dataset(test_df, columns=['ID'], text_column='Review')"
   ]
  },
  {
   "cell_type": "code",
   "execution_count": 9,
   "id": "ab41cc1c",
   "metadata": {},
   "outputs": [
    {
     "name": "stderr",
     "output_type": "stream",
     "text": [
      "Saving the dataset (1/1 shards): 100%|██████████| 89166/89166 [00:00<00:00, 1147231.11 examples/s]\n"
     ]
    }
   ],
   "source": [
    "test_dataset.save_to_disk(f'../datasets/restmex_mtl_v1_test')"
   ]
  },
  {
   "cell_type": "markdown",
   "id": "205d05c8",
   "metadata": {},
   "source": [
    "### Caracters"
   ]
  },
  {
   "cell_type": "code",
   "execution_count": 11,
   "id": "fe43d861",
   "metadata": {},
   "outputs": [
    {
     "data": {
      "text/plain": [
       "['Excelente lugar para comer y pasar una buena noche!!! El servicio es de primera y la comida exquisita!!!',\n",
       " 'andar mucho, así que un poco difícil para personas con niños pequeños, pero con mucha historia en la zona, y la diversión de aprender un poco de todo, y explorar las ruinas. La playa también era bastante agradable!',\n",
       " 'Es nuestra cuarta visita a Dreams Tulum, elegimos este hotel para festejar mi cumpleaños ya que en este hotel nos comprometimos y casamos y tenemos un cariño muy especial por este lugar, pero mostramos que cambiaron las cosas. En cuestión de instalaciones sigue perfecto!! La playa muy limpia a pesar del sargazo. Pero en la amabilidad y servicio que los distinguía lo han perdido bastante, los empleados andan corriendo por todos lados, gritando de un lado a otro tratando de organizarse y pasamos varios detalles como por ejemplo mi esposo pidió un juego verde y la mesera le contestó que se parara él que estaba en la esquina porque solo se llevaba el café!! Eso jamás hubiera pasado en el Dreams de antes!!! Cuando uno se topaba al staff del',\n",
       " 'Estando en Cancún, fuimos al puerto y tomamos un Ferry a la Isla Mujeres. después de un corto viaje, llegamos a esta pequeña isla, donde todo el mundo se desplaza en moto, carritos de golf, bicicleta o simplemente caminando. La recorrimos durante un rato y terminamos en la Playa Norte, donde pasamos la tarde recostadas sobre la arena y bañándonos en el mar. el agua tiene muy poca profundidad, por lo que puedes adentrarte mucho en el mar simplemente caminando. Si estás en Cancún, te recomiendo destinar medio día para conocer esta simpática isla.',\n",
       " 'Es un lugar antiguo y por eso me encanto tiene un área de juegos gigante en la cual hay boliche, ping pong, mesas de cartas, dominó. Esta super céntrico Pase ahí año nuevo y la fiesta fue increíble También te prestan bicis para que visites la ciudad',\n",
       " 'La mejor playa en la que he estado. Arena blanca finísima y el agua transparente y de lejos azul turquesa. Me encantó',\n",
       " 'Visitar la zona arqueologica de Tulum y disfrutar de Playa Paraiso es una experiencia inigualable, Ven a disfrutarla o pierdas la oportunidad de sentir la maravillosa y mistica cultura Maya.',\n",
       " 'Conozco Mayabel desde hace más de 15 años. Es uno de esos lugares únicos. Tienen área de acampado, para trailers y hotel. Su alberca es deliciosa, su restaurante muy bueno. Vale la. pena darse tiempo de visitarlo en las Ruinas de Palenque, de las cuales queda muy cerca.',\n",
       " 'las instalaciones están hermosas, es de esos lugares en los que puedes disfrutar de tiempo para ti, tienen un killer camote con roquefort que es de lo mas recomendable de la carta, si el día esta frío el jacuzzi es muy recomendable y si el día esta soleado la piscina sera tu mejor opción.',\n",
       " 'estuvimoa hospedados para participar en el evento del Triatlon, lo escogimos por la ubicación y las recomendaciones que tenia, fue una buena elección. La atención en la recepción fue muy buena, la habitación limpia y muy amplia, lo único es que solo tienen habitaciones con dos camas dobles, no hay king. Se pueden oír todos los sonidos de la selva. El servicio en el restaurant fue bueno el primer día aunque decano después, no estaban preparados para recibir tanta gente, la calidad de los alimentos buena, sin estar fuera de lo común. Los masajes en el spa muy buenos, las chicas saben lo que hacen. Seguro regresaremos el proximo año, al mismo evento y hotel.']"
      ]
     },
     "execution_count": 11,
     "metadata": {},
     "output_type": "execute_result"
    }
   ],
   "source": [
    "train_dataset['reviews'][:10]"
   ]
  },
  {
   "cell_type": "markdown",
   "id": "86553683",
   "metadata": {},
   "source": [
    "### Caracters"
   ]
  },
  {
   "cell_type": "code",
   "execution_count": null,
   "id": "0c28a75c",
   "metadata": {},
   "outputs": [],
   "source": [
    "import numpy as np\n",
    "\n",
    "characters = np.unique_values([ c for review in train_df[\"Review\"] for c in review ])"
   ]
  },
  {
   "cell_type": "code",
   "execution_count": null,
   "id": "d019c5d7",
   "metadata": {},
   "outputs": [],
   "source": [
    "import re\n",
    "import unicodedata\n",
    "\n",
    "def clean_characters(text):\n",
    "    #text = re.sub('\\n+', '\\n', text)\n",
    "    text = re.sub(r\"`|‘|’|´\", \"'\", text)\n",
    "    text = re.sub(r\"''\", \"\", text)\n",
    "    text = re.sub(r\"\\xad|\\x81|…|_|\\u200b\", \" \", text)\n",
    "    text = re.sub(\"[-—–]+\", \"-\", text) \n",
    "    text = re.sub(r\"\\.+\", \".\", text)\n",
    "    \n",
    "    text = re.sub(r\"б|Ã¡|Ã¡|à\", \"á\", text)\n",
    "    text = re.sub(r\"Ã©|è|й\", \"é\", text)\n",
    "    text = re.sub(r\"у|Ã³|í³|ò\", \"ó\", text)\n",
    "    text = re.sub(r\"ъ|Ãº|ù\", \"ú\", text)\n",
    "\n",
    "    text = re.sub(r\"Ã|À\", \"Á\", text)\n",
    "    text = re.sub(r\"Ã‰|È\", \"É\", text)\n",
    "    text = re.sub(r\"Ã|Ì\", \"Í\", text)\n",
    "    text = re.sub(r\"Ã“|Ò\", \"Ó\", text)\n",
    "    text = re.sub(r\"Ãš|Ù\", \"Ú\", text)\n",
    "    \n",
    "    text = re.sub(r\"Ã‘\", \"Ñ\", text)\n",
    "    text = re.sub(r\"с|Ã±|a±|í±\", \"ñ\", text)\n",
    "    text = re.sub(r\"е\", \"e\", text)\n",
    "    text = re.sub(r\"Â¿|Ї\", \"¿\", text)\n",
    "    text = re.sub(r\"éÂ¼\", \"üe\", text)\n",
    "    text = re.sub(r\"ss \", \" \", text)  \n",
    "    \n",
    "    if re.search(r\"н|Ã ­|Ã|­�|ì\", text) is not None: \n",
    "        text = re.sub(r\"н|Ã ­|Ã|­�|ì\", \"í\", text)\n",
    "        text = re.sub(r\"í \", \"í\", text)\n",
    "\n",
    "    text = re.sub(r'([\\.,¡!¿\\?\\[\\]\\(\\)%\\$])', r' \\1 ', text)\n",
    "    text = re.sub(r\"[^A-Za-zÁÉÍÓÚáéíóúüÑñ¿\\?!¡,\\[\\]\\(\\)\\n'0-9-\\. %\\$]\", '', text)\n",
    "    \n",
    "    text = re.sub(r'\\b[Mm][áa]s\\b[\\.\\!\\?]?$','', text)\n",
    "\n",
    "    text = re.sub(r\"\\s+\", \" \", text)\n",
    "\n",
    "    return unicodedata.normalize('NFC', text.strip())"
   ]
  },
  {
   "cell_type": "code",
   "execution_count": null,
   "id": "f30ff46f",
   "metadata": {},
   "outputs": [],
   "source": [
    "#from dataset_utils import clean_characters\n",
    "\n",
    "train_df[\"clean_review\"] = train_df[\"Review\"].apply(lambda x: clean_characters(x))"
   ]
  },
  {
   "cell_type": "code",
   "execution_count": null,
   "id": "6ab43634",
   "metadata": {},
   "outputs": [],
   "source": [
    "new_characters = np.unique_values([ c for review in train_df[\"clean_review\"] for c in review ])\n",
    "new_characters"
   ]
  },
  {
   "cell_type": "code",
   "execution_count": null,
   "id": "ab7839a2",
   "metadata": {},
   "outputs": [],
   "source": [
    "# 121199 121196 20450\n",
    "id = 12560\n",
    "print(train_df[\"Review\"][id])\n",
    "print(\"\")\n",
    "print(train_df[\"clean_review\"][id])"
   ]
  },
  {
   "cell_type": "code",
   "execution_count": null,
   "id": "ba3e708a",
   "metadata": {},
   "outputs": [],
   "source": [
    "import matplotlib.pyplot as plt\n",
    "import numpy as np\n",
    "\n",
    "words_size = [ len(text.split(\" \")) for text in train_df[\"clean_review\"] ]\n",
    "words_mean = np.mean(words_size)\n",
    "words_q    = np.quantile(words_size, q=0.95)"
   ]
  },
  {
   "cell_type": "code",
   "execution_count": null,
   "id": "ac4c7c70",
   "metadata": {},
   "outputs": [],
   "source": [
    "np.quantile(words_size, q=0.8)"
   ]
  },
  {
   "cell_type": "code",
   "execution_count": null,
   "id": "45b302d9",
   "metadata": {},
   "outputs": [],
   "source": [
    "train_df[\"clean_review\"].iloc[np.argmax(words_size)].split(\".\")[3]"
   ]
  },
  {
   "cell_type": "code",
   "execution_count": null,
   "id": "a0093b1c",
   "metadata": {},
   "outputs": [],
   "source": [
    "plt.hist(words_size, bins=np.arange(1,512,1))\n",
    "plt.axvline(words_mean, color=\"red\", linestyle=\"dashed\", linewidth=2, label=f\"Mean: {words_mean:.2f}\")\n",
    "plt.axvline(words_q, color=\"green\", linestyle=\"dashed\", linewidth=2, label=f\"Quantile: {words_q:.2f}\")\n",
    "plt.legend()\n",
    "plt.show()"
   ]
  },
  {
   "cell_type": "code",
   "execution_count": null,
   "id": "8cbf9d63",
   "metadata": {},
   "outputs": [],
   "source": [
    "\"Vivo en la majestuosa CDMX\".split(\" \")[-1:]"
   ]
  }
 ],
 "metadata": {
  "kernelspec": {
   "display_name": ".env",
   "language": "python",
   "name": "python3"
  },
  "language_info": {
   "codemirror_mode": {
    "name": "ipython",
    "version": 3
   },
   "file_extension": ".py",
   "mimetype": "text/x-python",
   "name": "python",
   "nbconvert_exporter": "python",
   "pygments_lexer": "ipython3",
   "version": "3.12.10"
  }
 },
 "nbformat": 4,
 "nbformat_minor": 5
}
